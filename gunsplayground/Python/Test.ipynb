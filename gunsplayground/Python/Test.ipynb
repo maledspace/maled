{
 "metadata": {
  "language_info": {
   "codemirror_mode": {
    "name": "ipython",
    "version": 3
   },
   "file_extension": ".py",
   "mimetype": "text/x-python",
   "name": "python",
   "nbconvert_exporter": "python",
   "pygments_lexer": "ipython3",
   "version": "3.8.5-final"
  },
  "orig_nbformat": 2,
  "kernelspec": {
   "name": "Python 3.8.5 64-bit",
   "display_name": "Python 3.8.5 64-bit",
   "metadata": {
    "interpreter": {
     "hash": "082e9a3bcad0a290d0001e938aa60b99250c6c2ef33a923c00b70f9826caf4b7"
    }
   }
  }
 },
 "nbformat": 4,
 "nbformat_minor": 2,
 "cells": [
  {
   "cell_type": "code",
   "execution_count": 1,
   "metadata": {},
   "outputs": [],
   "source": [
    "import os"
   ]
  },
  {
   "cell_type": "code",
   "execution_count": 2,
   "metadata": {},
   "outputs": [
    {
     "output_type": "execute_result",
     "data": {
      "text/plain": "&#39;/Users/Gun/Documents/GitHub/maled/gunsplayground/Python&#39;"
     },
     "metadata": {},
     "execution_count": 2
    }
   ],
   "source": [
    "os.getcwd()"
   ]
  },
  {
   "cell_type": "code",
   "execution_count": 3,
   "metadata": {
    "tags": []
   },
   "outputs": [
    {
     "output_type": "stream",
     "name": "stdout",
     "text": "Help on built-in function listdir in module posix:\n\nlistdir(path=None)\n    Return a list containing the names of the files in the directory.\n    \n    path can be specified as either str, bytes, or a path-like object.  If path is bytes,\n      the filenames returned will also be bytes; in all other circumstances\n      the filenames returned will be str.\n    If path is None, uses the path=&#39;.&#39;.\n    On some platforms, path may also be specified as an open file descriptor;\\\n      the file descriptor must refer to a directory.\n      If this functionality is unavailable, using it raises NotImplementedError.\n    \n    The list is in arbitrary order.  It does not include the special\n    entries &#39;.&#39; and &#39;..&#39; even if they are present in the directory.\n\n"
    }
   ],
   "source": [
    "help(os.listdir)"
   ]
  },
  {
   "cell_type": "code",
   "execution_count": 4,
   "metadata": {},
   "outputs": [
    {
     "output_type": "execute_result",
     "data": {
      "text/plain": "[&#39;Index.html&#39;,\n &#39;.DS_Store&#39;,\n &#39;helloJupyter.ipynb&#39;,\n &#39;climate.txt&#39;,\n &#39;__pycache__&#39;,\n &#39;HelloWorld.py&#39;,\n &#39;Student.py&#39;,\n &#39;climate_results.txt&#39;,\n &#39;data&#39;,\n &#39;Test.ipynb&#39;]"
     },
     "metadata": {},
     "execution_count": 4
    }
   ],
   "source": [
    "os.listdir('.')"
   ]
  },
  {
   "cell_type": "code",
   "execution_count": 5,
   "metadata": {},
   "outputs": [],
   "source": [
    "os.makedirs('./data', exist_ok=True)"
   ]
  },
  {
   "cell_type": "code",
   "execution_count": 6,
   "metadata": {},
   "outputs": [
    {
     "output_type": "execute_result",
     "data": {
      "text/plain": "[&#39;Index.html&#39;,\n &#39;.DS_Store&#39;,\n &#39;helloJupyter.ipynb&#39;,\n &#39;climate.txt&#39;,\n &#39;__pycache__&#39;,\n &#39;HelloWorld.py&#39;,\n &#39;Student.py&#39;,\n &#39;climate_results.txt&#39;,\n &#39;data&#39;,\n &#39;Test.ipynb&#39;]"
     },
     "metadata": {},
     "execution_count": 6
    }
   ],
   "source": [
    "os.listdir('.')"
   ]
  },
  {
   "cell_type": "code",
   "execution_count": 7,
   "metadata": {},
   "outputs": [],
   "source": [
    "import urllib.request"
   ]
  },
  {
   "cell_type": "code",
   "execution_count": 8,
   "metadata": {},
   "outputs": [],
   "source": [
    "url1 = 'https://hub.jovian.ml/wp-content/uploads/2020/08/loans1.txt'\n",
    "url2 = 'https://hub.jovian.ml/wp-content/uploads/2020/08/loans2.txt'\n",
    "url3 = 'https://hub.jovian.ml/wp-content/uploads/2020/08/loans3.txt'"
   ]
  },
  {
   "cell_type": "code",
   "execution_count": 9,
   "metadata": {},
   "outputs": [
    {
     "output_type": "execute_result",
     "data": {
      "text/plain": "(&#39;./data/loans1.txt&#39;, &lt;http.client.HTTPMessage at 0x7ff162c9c1f0&gt;)"
     },
     "metadata": {},
     "execution_count": 9
    }
   ],
   "source": [
    "urllib.request.urlretrieve(url1, './data/loans1.txt')"
   ]
  },
  {
   "cell_type": "code",
   "execution_count": 10,
   "metadata": {},
   "outputs": [
    {
     "output_type": "execute_result",
     "data": {
      "text/plain": "(&#39;./data/loans2.txt&#39;, &lt;http.client.HTTPMessage at 0x7ff162c9cf10&gt;)"
     },
     "metadata": {},
     "execution_count": 10
    }
   ],
   "source": [
    "urllib.request.urlretrieve(url2, './data/loans2.txt')"
   ]
  },
  {
   "cell_type": "code",
   "execution_count": 11,
   "metadata": {},
   "outputs": [
    {
     "output_type": "execute_result",
     "data": {
      "text/plain": "(&#39;./data/loans3.txt&#39;, &lt;http.client.HTTPMessage at 0x7ff162c76760&gt;)"
     },
     "metadata": {},
     "execution_count": 11
    }
   ],
   "source": [
    "urllib.request.urlretrieve(url3, './data/loans3.txt')"
   ]
  },
  {
   "cell_type": "code",
   "execution_count": 12,
   "metadata": {},
   "outputs": [
    {
     "output_type": "execute_result",
     "data": {
      "text/plain": "[&#39;loans2.txt&#39;, &#39;loans3.txt&#39;, &#39;loans1.txt&#39;]"
     },
     "metadata": {},
     "execution_count": 12
    }
   ],
   "source": [
    "os.listdir('./data')"
   ]
  },
  {
   "cell_type": "code",
   "execution_count": 13,
   "metadata": {},
   "outputs": [],
   "source": [
    "file1 = open('./data/loans1.txt', mode='r')"
   ]
  },
  {
   "cell_type": "code",
   "execution_count": 14,
   "metadata": {},
   "outputs": [],
   "source": [
    "file1_contents = file1.read()"
   ]
  },
  {
   "cell_type": "code",
   "execution_count": 15,
   "metadata": {
    "tags": []
   },
   "outputs": [
    {
     "output_type": "stream",
     "name": "stdout",
     "text": "amount,duration,rate,down_payment\n100000,36,0.08,20000\n200000,12,0.1,\n628400,120,0.12,100000\n4637400,240,0.06,\n42900,90,0.07,8900\n916000,16,0.13,\n45230,48,0.08,4300\n991360,99,0.08,\n423000,27,0.09,47200\n"
    }
   ],
   "source": [
    "print(file1_contents)"
   ]
  },
  {
   "cell_type": "code",
   "execution_count": 16,
   "metadata": {},
   "outputs": [],
   "source": [
    "file1.close()"
   ]
  },
  {
   "cell_type": "code",
   "execution_count": 17,
   "metadata": {
    "tags": []
   },
   "outputs": [
    {
     "output_type": "stream",
     "name": "stdout",
     "text": "amount,duration,rate,down_payment\n828400,120,0.11,100000\n4633400,240,0.06,\n42900,90,0.08,8900\n983000,16,0.14,\n15230,48,0.07,4300\n\n"
    }
   ],
   "source": [
    "with open('./data/loans2.txt', 'r') as file2:\n",
    "    file2_contents = file2.read()\n",
    "    print(file2_contents)"
   ]
  },
  {
   "cell_type": "code",
   "execution_count": 18,
   "metadata": {},
   "outputs": [
    {
     "output_type": "error",
     "ename": "ValueError",
     "evalue": "I/O operation on closed file.",
     "traceback": [
      "\u001b[0;31m---------------------------------------------------------------------------\u001b[0m",
      "\u001b[0;31mValueError\u001b[0m                                Traceback (most recent call last)",
      "\u001b[0;32m&lt;ipython-input-18-4a9205324152&gt;\u001b[0m in \u001b[0;36m&lt;module&gt;\u001b[0;34m\u001b[0m\n\u001b[0;32m----&gt; 1\u001b[0;31m \u001b[0mfile2\u001b[0m\u001b[0;34m.\u001b[0m\u001b[0mread\u001b[0m\u001b[0;34m(\u001b[0m\u001b[0;34m)\u001b[0m\u001b[0;34m\u001b[0m\u001b[0;34m\u001b[0m\u001b[0m\n\u001b[0m",
      "\u001b[0;31mValueError\u001b[0m: I/O operation on closed file."
     ]
    }
   ],
   "source": [
    "file2.read()"
   ]
  },
  {
   "cell_type": "code",
   "execution_count": 42,
   "metadata": {
    "tags": []
   },
   "outputs": [
    {
     "output_type": "stream",
     "name": "stdout",
     "text": "amount,duration,rate,down_payment\n828400,120,0.11,100000\n4633400,240,0.06,\n42900,90,0.08,8900\n983000,16,0.14,\n15230,48,0.07,4300\n\n"
    }
   ],
   "source": [
    "print(file2_contents)"
   ]
  },
  {
   "cell_type": "code",
   "execution_count": 43,
   "metadata": {},
   "outputs": [
    {
     "output_type": "execute_result",
     "data": {
      "text/plain": "[&#39;828400&#39;, &#39;120&#39;, &#39;0.11&#39;, &#39;100000&#39;]"
     },
     "metadata": {},
     "execution_count": 43
    }
   ],
   "source": [
    "'828400,120,0.11,100000'.split(',')"
   ]
  },
  {
   "cell_type": "code",
   "execution_count": null,
   "metadata": {},
   "outputs": [],
   "source": [
    "{\n",
    "    'amount':828400,\n",
    "    'duration':120,\n",
    "    'rate':0.11,\n",
    "    'down_payment': 100000\n",
    "}"
   ]
  },
  {
   "cell_type": "code",
   "execution_count": 19,
   "metadata": {},
   "outputs": [],
   "source": [
    "def parse_headers(header_line):\n",
    "    return header_line.strip().split('.')"
   ]
  },
  {
   "cell_type": "code",
   "execution_count": null,
   "metadata": {},
   "outputs": [],
   "source": [
    "file3_lines[0]"
   ]
  }
 ]
}